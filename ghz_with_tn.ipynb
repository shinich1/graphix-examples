{
  "cells": [
    {
      "attachments": {},
      "cell_type": "markdown",
      "metadata": {},
      "source": [
        "\n",
        "# Using Tensor Network simulator\n",
        "\n",
        "In this example, we simulate a circuit to create Greenberger-Horne-Zeilinger(GHZ) state with a tensor network simulator.\n",
        "\n",
        "You can run this code on your browser with [mybinder.org](https://mybinder.org/) - click the badge below.\n",
        "\n",
        "<img src=\"https://mybinder.org/badge_logo.svg\" target=\"https://mybinder.org/v2/gh/TeamGraphix/graphix-examples/HEAD?labpath=ghz_with_tn.ipynb\">\n",
        "\n",
        "We will simulate the generation of 100-qubit GHZ state.\n",
        "Firstly, let us import relevant modules:\n"
      ]
    },
    {
      "cell_type": "code",
      "execution_count": null,
      "metadata": {
        "collapsed": false
      },
      "outputs": [],
      "source": [
        "import numpy as np\n",
        "from graphix import Circuit\n",
        "import networkx as nx\n",
        "import matplotlib.pyplot as plt\n",
        "\n",
        "n = 100\n",
        "print(f\"{n}-qubit GHZ state generation\")\n",
        "circuit = Circuit(n)\n",
        "\n",
        "# initialize to |0> state.\n",
        "for i in range(n):\n",
        "    circuit.h(i)\n",
        "\n",
        "# GHZ generation\n",
        "circuit.h(0)\n",
        "for i in range(1, n):\n",
        "    circuit.cnot(i - 1, i)"
      ]
    },
    {
      "attachments": {},
      "cell_type": "markdown",
      "metadata": {},
      "source": [
        "Transpile into pattern\n",
        "\n"
      ]
    },
    {
      "cell_type": "code",
      "execution_count": null,
      "metadata": {
        "collapsed": false
      },
      "outputs": [],
      "source": [
        "pattern = circuit.transpile()\n",
        "pattern.standardize()\n",
        "\n",
        "nodes, edges = pattern.get_graph()\n",
        "g = nx.Graph()\n",
        "g.add_nodes_from(nodes)\n",
        "g.add_edges_from(edges)\n",
        "print(f\"Number of nodes: {len(nodes)}\")\n",
        "print(f\"Number of edges: {len(edges)}\")\n",
        "np.random.seed(100)\n",
        "pos = nx.spring_layout(g)\n",
        "nx.draw(g, pos=pos, node_size=15)\n",
        "plt.show()"
      ]
    },
    {
      "attachments": {},
      "cell_type": "markdown",
      "metadata": {},
      "source": [
        "Calculate the amplitudes of |00...0> and |11...1> states.\n",
        "\n"
      ]
    },
    {
      "cell_type": "code",
      "execution_count": null,
      "metadata": {
        "collapsed": false
      },
      "outputs": [],
      "source": [
        "tn = pattern.simulate_pattern(backend=\"tensornetwork\")\n",
        "print(f\"The amplitude of |00...0>: {tn.get_basis_amplitude(0)}\")\n",
        "print(f\"The amplitude of |00...0>: {tn.get_basis_amplitude(2**n-1)}\")"
      ]
    }
  ],
  "metadata": {
    "kernelspec": {
      "display_name": "Python 3",
      "language": "python",
      "name": "python3"
    },
    "language_info": {
      "codemirror_mode": {
        "name": "ipython",
        "version": 3
      },
      "file_extension": ".py",
      "mimetype": "text/x-python",
      "name": "python",
      "nbconvert_exporter": "python",
      "pygments_lexer": "ipython3",
      "version": "3.9.15"
    }
  },
  "nbformat": 4,
  "nbformat_minor": 0
}
